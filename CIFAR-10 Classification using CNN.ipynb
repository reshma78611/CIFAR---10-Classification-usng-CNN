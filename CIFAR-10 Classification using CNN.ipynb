{
 "cells": [
  {
   "cell_type": "code",
   "execution_count": 1,
   "id": "1bb1b5a9",
   "metadata": {},
   "outputs": [],
   "source": [
    "import numpy as np\n",
    "import pandas as pd\n",
    "import matplotlib.pyplot as plt\n",
    "import seaborn as sns\n",
    "\n",
    "import tensorflow as tf\n",
    "from tensorflow import keras"
   ]
  },
  {
   "cell_type": "code",
   "execution_count": 2,
   "id": "4992d9b8",
   "metadata": {},
   "outputs": [],
   "source": [
    "(X_train,Y_train),(X_test,Y_test)=keras.datasets.cifar10.load_data()"
   ]
  },
  {
   "cell_type": "code",
   "execution_count": 3,
   "id": "bba810e8",
   "metadata": {},
   "outputs": [
    {
     "data": {
      "text/plain": [
       "(50000, 32, 32, 3)"
      ]
     },
     "execution_count": 3,
     "metadata": {},
     "output_type": "execute_result"
    }
   ],
   "source": [
    "X_train.shape"
   ]
  },
  {
   "cell_type": "code",
   "execution_count": 4,
   "id": "4ca5e941",
   "metadata": {},
   "outputs": [
    {
     "data": {
      "text/plain": [
       "(10000, 32, 32, 3)"
      ]
     },
     "execution_count": 4,
     "metadata": {},
     "output_type": "execute_result"
    }
   ],
   "source": [
    "X_test.shape"
   ]
  },
  {
   "cell_type": "code",
   "execution_count": 5,
   "id": "ac14285f",
   "metadata": {},
   "outputs": [
    {
     "data": {
      "text/plain": [
       "<matplotlib.image.AxesImage at 0x1f459c46b20>"
      ]
     },
     "execution_count": 5,
     "metadata": {},
     "output_type": "execute_result"
    },
    {
     "data": {
      "image/png": "[encoded data removed]",
      "text/plain": [
       "<Figure size 432x288 with 1 Axes>"
      ]
     },
     "metadata": {
      "needs_background": "light"
     },
     "output_type": "display_data"
    }
   ],
   "source": [
    "plt.imshow(X_train[0])"
   ]
  },
  {
   "cell_type": "code",
   "execution_count": 6,
   "id": "48df6eda",
   "metadata": {},
   "outputs": [
    {
     "data": {
      "text/plain": [
       "array([6], dtype=uint8)"
      ]
     },
     "execution_count": 6,
     "metadata": {},
     "output_type": "execute_result"
    }
   ],
   "source": [
    "Y_train[0]"
   ]
  },
  {
   "cell_type": "code",
   "execution_count": 7,
   "id": "c5362900",
   "metadata": {},
   "outputs": [
    {
     "data": {
      "text/plain": [
       "array([[6],\n",
       "       [9],\n",
       "       [9],\n",
       "       ...,\n",
       "       [9],\n",
       "       [1],\n",
       "       [1]], dtype=uint8)"
      ]
     },
     "execution_count": 7,
     "metadata": {},
     "output_type": "execute_result"
    }
   ],
   "source": [
    "Y_train"
   ]
  },
  {
   "cell_type": "code",
   "execution_count": 8,
   "id": "afb2a3e6",
   "metadata": {},
   "outputs": [
    {
     "data": {
      "text/plain": [
       "array([6, 9, 9, ..., 9, 1, 1], dtype=uint8)"
      ]
     },
     "execution_count": 8,
     "metadata": {},
     "output_type": "execute_result"
    }
   ],
   "source": [
    "# Convert 2D to 1D\n",
    "Y_train=Y_train.reshape(-1,)\n",
    "Y_train"
   ]
  },
  {
   "cell_type": "code",
   "execution_count": 9,
   "id": "5998262c",
   "metadata": {},
   "outputs": [],
   "source": [
    "classes=['airplane','automobile','bird','cat','deer','dog','frog','horse','ship','truck']"
   ]
  },
  {
   "cell_type": "code",
   "execution_count": 10,
   "id": "cdfbc1a1",
   "metadata": {},
   "outputs": [
    {
     "data": {
      "text/plain": [
       "'frog'"
      ]
     },
     "execution_count": 10,
     "metadata": {},
     "output_type": "execute_result"
    }
   ],
   "source": [
    "classes[Y_train[0]]"
   ]
  },
  {
   "cell_type": "code",
   "execution_count": 11,
   "id": "15e44fb2",
   "metadata": {},
   "outputs": [],
   "source": [
    "def plot_sample(X,Y,index):\n",
    "    plt.imshow(X[index])\n",
    "    plt.xlabel(classes[Y[index]])"
   ]
  },
  {
   "cell_type": "code",
   "execution_count": 12,
   "id": "fa4cdcdf",
   "metadata": {},
   "outputs": [
    {
     "data": {
      "image/png": "[encoded data removed]",
      "text/plain": [
       "<Figure size 432x288 with 1 Axes>"
      ]
     },
     "metadata": {
      "needs_background": "light"
     },
     "output_type": "display_data"
    }
   ],
   "source": [
    "plot_sample(X_train,Y_train,0)"
   ]
  },
  {
   "cell_type": "code",
   "execution_count": 13,
   "id": "6673c207",
   "metadata": {},
   "outputs": [
    {
     "data": {
      "text/plain": [
       "array([3, 8, 8, ..., 5, 1, 7], dtype=uint8)"
      ]
     },
     "execution_count": 13,
     "metadata": {},
     "output_type": "execute_result"
    }
   ],
   "source": [
    "# Convert 2D to 1D\n",
    "Y_test=Y_test.reshape(-1,)\n",
    "Y_test"
   ]
  },
  {
   "cell_type": "code",
   "execution_count": 14,
   "id": "e9c203be",
   "metadata": {},
   "outputs": [
    {
     "data": {
      "image/png": "[encoded data removed]",
      "text/plain": [
       "<Figure size 432x288 with 1 Axes>"
      ]
     },
     "metadata": {
      "needs_background": "light"
     },
     "output_type": "display_data"
    }
   ],
   "source": [
    "plot_sample(X_test,Y_test,2)"
   ]
  },
  {
   "cell_type": "code",
   "execution_count": 15,
   "id": "c73b9dfa",
   "metadata": {},
   "outputs": [],
   "source": [
    "# Scaling\n",
    "\n",
    "X_train=X_train/255\n",
    "X_test=X_test/255"
   ]
  },
  {
   "cell_type": "code",
   "execution_count": 16,
   "id": "4205294b",
   "metadata": {},
   "outputs": [],
   "source": [
    "from keras.models import Sequential\n",
    "from keras.layers import Dense, Dropout, Activation, Flatten\n",
    "from keras.layers import Conv2D, MaxPooling2D"
   ]
  },
  {
   "cell_type": "markdown",
   "id": "792453e0",
   "metadata": {},
   "source": [
    "## Using Basic ANN"
   ]
  },
  {
   "cell_type": "code",
   "execution_count": 17,
   "id": "88356c64",
   "metadata": {},
   "outputs": [],
   "source": [
    "ann=Sequential()\n",
    "ann.add(Flatten(input_shape=(32,32,3)))\n",
    "ann.add(Dense(3000,activation='relu'))\n",
    "ann.add(Dense(1000,activation='relu'))\n",
    "ann.add(Dense(10,activation='sigmoid'))"
   ]
  },
  {
   "cell_type": "code",
   "execution_count": 18,
   "id": "f57292d9",
   "metadata": {},
   "outputs": [
    {
     "name": "stdout",
     "output_type": "stream",
     "text": [
      "Model: \"sequential\"\n",
      "_________________________________________________________________\n",
      "Layer (type)                 Output Shape              Param #   \n",
      "=================================================================\n",
      "flatten (Flatten)            (None, 3072)              0         \n",
      "_________________________________________________________________\n",
      "dense (Dense)                (None, 3000)              9219000   \n",
      "_________________________________________________________________\n",
      "dense_1 (Dense)              (None, 1000)              3001000   \n",
      "_________________________________________________________________\n",
      "dense_2 (Dense)              (None, 10)                10010     \n",
      "=================================================================\n",
      "Total params: 12,230,010\n",
      "Trainable params: 12,230,010\n",
      "Non-trainable params: 0\n",
      "_________________________________________________________________\n"
     ]
    }
   ],
   "source": [
    "ann.summary()"
   ]
  },
  {
   "cell_type": "code",
   "execution_count": 19,
   "id": "8722c5b6",
   "metadata": {},
   "outputs": [],
   "source": [
    "ann.compile(optimizer='SGD',loss='sparse_categorical_crossentropy',metrics=['accuracy'])"
   ]
  },
  {
   "cell_type": "code",
   "execution_count": 20,
   "id": "646596ba",
   "metadata": {},
   "outputs": [
    {
     "name": "stdout",
     "output_type": "stream",
     "text": [
      "Epoch 1/10\n",
      "1563/1563 [==============================] - 249s 158ms/step - loss: 1.8120 - accuracy: 0.3521\n",
      "Epoch 2/10\n",
      "1563/1563 [==============================] - 232s 149ms/step - loss: 1.6245 - accuracy: 0.4262\n",
      "Epoch 3/10\n",
      "1563/1563 [==============================] - 211s 135ms/step - loss: 1.5434 - accuracy: 0.4550\n",
      "Epoch 4/10\n",
      "1563/1563 [==============================] - 204s 130ms/step - loss: 1.4825 - accuracy: 0.4776\n",
      "Epoch 5/10\n",
      "1563/1563 [==============================] - 220s 141ms/step - loss: 1.4316 - accuracy: 0.4972\n",
      "Epoch 6/10\n",
      "1563/1563 [==============================] - 228s 146ms/step - loss: 1.3925 - accuracy: 0.5097\n",
      "Epoch 7/10\n",
      "1563/1563 [==============================] - 220s 141ms/step - loss: 1.3527 - accuracy: 0.5231\n",
      "Epoch 8/10\n",
      "1563/1563 [==============================] - 245s 157ms/step - loss: 1.3176 - accuracy: 0.5341\n",
      "Epoch 9/10\n",
      "1563/1563 [==============================] - 239s 153ms/step - loss: 1.2887 - accuracy: 0.5478\n",
      "Epoch 10/10\n",
      "1563/1563 [==============================] - 220s 141ms/step - loss: 1.2548 - accuracy: 0.5596\n"
     ]
    },
    {
     "data": {
      "text/plain": [
       "<keras.callbacks.History at 0x1f44eda5d30>"
      ]
     },
     "execution_count": 20,
     "metadata": {},
     "output_type": "execute_result"
    }
   ],
   "source": [
    "ann.fit(X_train,Y_train,epochs=10)"
   ]
  },
  {
   "cell_type": "code",
   "execution_count": 21,
   "id": "318bced0",
   "metadata": {},
   "outputs": [
    {
     "name": "stdout",
     "output_type": "stream",
     "text": [
      "313/313 [==============================] - 17s 52ms/step - loss: 1.4050 - accuracy: 0.5022\n"
     ]
    },
    {
     "data": {
      "text/plain": [
       "[1.405015230178833, 0.5022000074386597]"
      ]
     },
     "execution_count": 21,
     "metadata": {},
     "output_type": "execute_result"
    }
   ],
   "source": [
    "ann.evaluate(X_test,Y_test)"
   ]
  },
  {
   "cell_type": "code",
   "execution_count": 22,
   "id": "ce5d6e25",
   "metadata": {},
   "outputs": [
    {
     "name": "stdout",
     "output_type": "stream",
     "text": [
      "Classification Report : \n",
      "               precision    recall  f1-score   support\n",
      "\n",
      "           0       0.42      0.75      0.54      1000\n",
      "           1       0.67      0.59      0.63      1000\n",
      "           2       0.46      0.35      0.40      1000\n",
      "           3       0.41      0.23      0.30      1000\n",
      "           4       0.55      0.36      0.44      1000\n",
      "           5       0.39      0.50      0.44      1000\n",
      "           6       0.57      0.57      0.57      1000\n",
      "           7       0.66      0.51      0.58      1000\n",
      "           8       0.79      0.39      0.52      1000\n",
      "           9       0.42      0.75      0.54      1000\n",
      "\n",
      "    accuracy                           0.50     10000\n",
      "   macro avg       0.53      0.50      0.50     10000\n",
      "weighted avg       0.53      0.50      0.50     10000\n",
      "\n"
     ]
    }
   ],
   "source": [
    "from sklearn.metrics import confusion_matrix,classification_report\n",
    "y_pred=ann.predict(X_test)\n",
    "y_pred_classes=[np.argmax(element) for element in y_pred]\n",
    "\n",
    "print('Classification Report : \\n',classification_report(Y_test,y_pred_classes))"
   ]
  },
  {
   "cell_type": "markdown",
   "id": "be57cff4",
   "metadata": {},
   "source": [
    "### Using ANN, Train_acc=55 and Test_acc=50"
   ]
  },
  {
   "cell_type": "markdown",
   "id": "6b128bd1",
   "metadata": {},
   "source": [
    "## Using basic CNN"
   ]
  },
  {
   "cell_type": "code",
   "execution_count": 23,
   "id": "2f4b5aa1",
   "metadata": {},
   "outputs": [],
   "source": [
    "cnn=Sequential()\n",
    "cnn.add(Conv2D(32,kernel_size=(3,3),activation='relu',input_shape=(32,32,3)))\n",
    "cnn.add(Conv2D(64,kernel_size=(3,3),activation='relu'))\n",
    "cnn.add(MaxPooling2D(pool_size=(2,2),strides=2))\n",
    "cnn.add(Flatten())\n",
    "cnn.add(Dense(128,activation='relu'))\n",
    "cnn.add(Dense(10,activation='softmax'))\n"
   ]
  },
  {
   "cell_type": "code",
   "execution_count": 24,
   "id": "be3c86ce",
   "metadata": {},
   "outputs": [
    {
     "name": "stdout",
     "output_type": "stream",
     "text": [
      "Model: \"sequential_1\"\n",
      "_________________________________________________________________\n",
      "Layer (type)                 Output Shape              Param #   \n",
      "=================================================================\n",
      "conv2d (Conv2D)              (None, 30, 30, 32)        896       \n",
      "_________________________________________________________________\n",
      "conv2d_1 (Conv2D)            (None, 28, 28, 64)        18496     \n",
      "_________________________________________________________________\n",
      "max_pooling2d (MaxPooling2D) (None, 14, 14, 64)        0         \n",
      "_________________________________________________________________\n",
      "flatten_1 (Flatten)          (None, 12544)             0         \n",
      "_________________________________________________________________\n",
      "dense_3 (Dense)              (None, 128)               1605760   \n",
      "_________________________________________________________________\n",
      "dense_4 (Dense)              (None, 10)                1290      \n",
      "=================================================================\n",
      "Total params: 1,626,442\n",
      "Trainable params: 1,626,442\n",
      "Non-trainable params: 0\n",
      "_________________________________________________________________\n"
     ]
    }
   ],
   "source": [
    "cnn.summary()"
   ]
  },
  {
   "cell_type": "code",
   "execution_count": 25,
   "id": "53c16e90",
   "metadata": {},
   "outputs": [],
   "source": [
    "cnn.compile(optimizer='adam',loss='sparse_categorical_crossentropy',metrics=['accuracy'])"
   ]
  },
  {
   "cell_type": "code",
   "execution_count": 26,
   "id": "d40e34aa",
   "metadata": {},
   "outputs": [
    {
     "name": "stdout",
     "output_type": "stream",
     "text": [
      "Epoch 1/10\n",
      "1563/1563 [==============================] - 313s 200ms/step - loss: 1.3038 - accuracy: 0.5345\n",
      "Epoch 2/10\n",
      "1563/1563 [==============================] - 314s 201ms/step - loss: 0.9501 - accuracy: 0.6675\n",
      "Epoch 3/10\n",
      "1563/1563 [==============================] - 296s 189ms/step - loss: 0.7707 - accuracy: 0.7307\n",
      "Epoch 4/10\n",
      "1563/1563 [==============================] - 361s 231ms/step - loss: 0.6260 - accuracy: 0.7820\n",
      "Epoch 5/10\n",
      "1563/1563 [==============================] - 410s 263ms/step - loss: 0.4893 - accuracy: 0.8302\n",
      "Epoch 6/10\n",
      "1563/1563 [==============================] - 380s 243ms/step - loss: 0.3646 - accuracy: 0.8716\n",
      "Epoch 7/10\n",
      "1563/1563 [==============================] - 367s 234ms/step - loss: 0.2580 - accuracy: 0.9097\n",
      "Epoch 8/10\n",
      "1563/1563 [==============================] - 346s 222ms/step - loss: 0.1850 - accuracy: 0.9355\n",
      "Epoch 9/10\n",
      "1563/1563 [==============================] - 309s 197ms/step - loss: 0.1354 - accuracy: 0.9524 - loss: 0.1353 \n",
      "Epoch 10/10\n",
      "1563/1563 [==============================] - 314s 201ms/step - loss: 0.1120 - accuracy: 0.9611\n"
     ]
    },
    {
     "data": {
      "text/plain": [
       "<keras.callbacks.History at 0x1f44ede2b20>"
      ]
     },
     "execution_count": 26,
     "metadata": {},
     "output_type": "execute_result"
    }
   ],
   "source": [
    "cnn.fit(X_train,Y_train,epochs=10)"
   ]
  },
  {
   "cell_type": "code",
   "execution_count": 27,
   "id": "49027439",
   "metadata": {},
   "outputs": [
    {
     "name": "stdout",
     "output_type": "stream",
     "text": [
      "313/313 [==============================] - 17s 53ms/step - loss: 1.8647 - accuracy: 0.6683\n"
     ]
    },
    {
     "data": {
      "text/plain": [
       "[1.864743947982788, 0.6682999730110168]"
      ]
     },
     "execution_count": 27,
     "metadata": {},
     "output_type": "execute_result"
    }
   ],
   "source": [
    "cnn.evaluate(X_test,Y_test)"
   ]
  },
  {
   "cell_type": "markdown",
   "id": "8060e881",
   "metadata": {},
   "source": [
    "### Using Basic CNN, Train_acc=96 and Test_acc=66, which means there is overfitting"
   ]
  },
  {
   "cell_type": "markdown",
   "id": "331224ff",
   "metadata": {},
   "source": [
    "## Using CNN+Dropout"
   ]
  },
  {
   "cell_type": "code",
   "execution_count": 29,
   "id": "faf072ad",
   "metadata": {},
   "outputs": [],
   "source": [
    "model = Sequential()\n",
    "#convolutional layer with rectified linear unit activation\n",
    "model.add(Conv2D(32, kernel_size=(3, 3),\n",
    "                 activation='relu',\n",
    "                 input_shape=(32,32,3)))\n",
    "#32 convolution filters used each of size 3x3\n",
    "#again\n",
    "model.add(Conv2D(64, (3, 3), activation='relu'))\n",
    "#64 convolution filters used each of size 3x3\n",
    "#choose the best features via pooling\n",
    "model.add(MaxPooling2D(pool_size=(2, 2),strides=2))\n",
    "#randomly turn neurons on and off to improve convergence\n",
    "model.add(Dropout(0.25))\n",
    "#flatten since too many dimensions, we only want a classification output\n",
    "model.add(Flatten())\n",
    "#fully connected to get all relevant data\n",
    "model.add(Dense(128, activation='relu'))\n",
    "#one more dropout for convergence' sake :) \n",
    "model.add(Dropout(0.5))\n",
    "#output a softmax to squash the matrix into output probabilities\n",
    "model.add(Dense(10, activation='softmax'))"
   ]
  },
  {
   "cell_type": "code",
   "execution_count": 30,
   "id": "2566b3af",
   "metadata": {},
   "outputs": [
    {
     "name": "stdout",
     "output_type": "stream",
     "text": [
      "Model: \"sequential_3\"\n",
      "_________________________________________________________________\n",
      "Layer (type)                 Output Shape              Param #   \n",
      "=================================================================\n",
      "conv2d_2 (Conv2D)            (None, 30, 30, 32)        896       \n",
      "_________________________________________________________________\n",
      "conv2d_3 (Conv2D)            (None, 28, 28, 64)        18496     \n",
      "_________________________________________________________________\n",
      "max_pooling2d_1 (MaxPooling2 (None, 14, 14, 64)        0         \n",
      "_________________________________________________________________\n",
      "dropout (Dropout)            (None, 14, 14, 64)        0         \n",
      "_________________________________________________________________\n",
      "flatten_2 (Flatten)          (None, 12544)             0         \n",
      "_________________________________________________________________\n",
      "dense_5 (Dense)              (None, 128)               1605760   \n",
      "_________________________________________________________________\n",
      "dropout_1 (Dropout)          (None, 128)               0         \n",
      "_________________________________________________________________\n",
      "dense_6 (Dense)              (None, 10)                1290      \n",
      "=================================================================\n",
      "Total params: 1,626,442\n",
      "Trainable params: 1,626,442\n",
      "Non-trainable params: 0\n",
      "_________________________________________________________________\n"
     ]
    }
   ],
   "source": [
    "model.summary()"
   ]
  },
  {
   "cell_type": "code",
   "execution_count": 31,
   "id": "b4302003",
   "metadata": {},
   "outputs": [],
   "source": [
    "model.compile(optimizer='adam',loss='sparse_categorical_crossentropy',metrics=['accuracy'])"
   ]
  },
  {
   "cell_type": "code",
   "execution_count": 32,
   "id": "d467afd1",
   "metadata": {},
   "outputs": [
    {
     "name": "stdout",
     "output_type": "stream",
     "text": [
      "Epoch 1/10\n",
      "1563/1563 [==============================] - 373s 237ms/step - loss: 1.5803 - accuracy: 0.4261\n",
      "Epoch 2/10\n",
      "1563/1563 [==============================] - 373s 239ms/step - loss: 1.2514 - accuracy: 0.5510\n",
      "Epoch 3/10\n",
      "1563/1563 [==============================] - 433s 277ms/step - loss: 1.1343 - accuracy: 0.5999\n",
      "Epoch 4/10\n",
      "1563/1563 [==============================] - 384s 245ms/step - loss: 1.0497 - accuracy: 0.6283\n",
      "Epoch 5/10\n",
      "1563/1563 [==============================] - 393s 252ms/step - loss: 0.9903 - accuracy: 0.6496\n",
      "Epoch 6/10\n",
      "1563/1563 [==============================] - 445s 285ms/step - loss: 0.9365 - accuracy: 0.6685\n",
      "Epoch 7/10\n",
      "1563/1563 [==============================] - 371s 237ms/step - loss: 0.8810 - accuracy: 0.6876\n",
      "Epoch 8/10\n",
      "1563/1563 [==============================] - 413s 264ms/step - loss: 0.8329 - accuracy: 0.7030\n",
      "Epoch 9/10\n",
      "1563/1563 [==============================] - 478s 306ms/step - loss: 0.7901 - accuracy: 0.7163\n",
      "Epoch 10/10\n",
      "1563/1563 [==============================] - 393s 251ms/step - loss: 0.7547 - accuracy: 0.7257\n"
     ]
    },
    {
     "data": {
      "text/plain": [
       "<keras.callbacks.History at 0x1f4532bc910>"
      ]
     },
     "execution_count": 32,
     "metadata": {},
     "output_type": "execute_result"
    }
   ],
   "source": [
    "model.fit(X_train,Y_train,epochs=10)"
   ]
  },
  {
   "cell_type": "code",
   "execution_count": 33,
   "id": "d6ac528d",
   "metadata": {},
   "outputs": [
    {
     "name": "stdout",
     "output_type": "stream",
     "text": [
      "313/313 [==============================] - 22s 67ms/step - loss: 0.8946 - accuracy: 0.6993\n"
     ]
    },
    {
     "data": {
      "text/plain": [
       "[0.894550085067749, 0.6992999911308289]"
      ]
     },
     "execution_count": 33,
     "metadata": {},
     "output_type": "execute_result"
    }
   ],
   "source": [
    "model.evaluate(X_test,Y_test)"
   ]
  },
  {
   "cell_type": "markdown",
   "id": "2c7155bf",
   "metadata": {},
   "source": [
    "### Using Basic CNN+Dropout, Train_acc=72 and Test_acc=69"
   ]
  },
  {
   "cell_type": "markdown",
   "id": "5bbdec51",
   "metadata": {},
   "source": [
    "## Using CNN+Data Augmentation"
   ]
  },
  {
   "cell_type": "markdown",
   "id": "0f583387",
   "metadata": {},
   "source": [
    "#### To reduce Overfitting use Data Augmentation"
   ]
  },
  {
   "cell_type": "code",
   "execution_count": 41,
   "id": "0146fbb6",
   "metadata": {},
   "outputs": [],
   "source": [
    "aug=Sequential()\n",
    "aug.add(tf.keras.layers.experimental.preprocessing.RandomFlip('horizontal',input_shape=(32,32,3)))\n",
    "aug.add(tf.keras.layers.experimental.preprocessing.RandomRotation(0.1))\n",
    "aug.add(tf.keras.layers.experimental.preprocessing.RandomZoom(0.1))"
   ]
  },
  {
   "cell_type": "code",
   "execution_count": 42,
   "id": "74af006c",
   "metadata": {},
   "outputs": [
    {
     "data": {
      "text/plain": [
       "<matplotlib.image.AxesImage at 0x1f45666de20>"
      ]
     },
     "execution_count": 42,
     "metadata": {},
     "output_type": "execute_result"
    },
    {
     "data": {
      "image/png": "[encoded data removed]",
      "text/plain": [
       "<Figure size 432x288 with 1 Axes>"
      ]
     },
     "metadata": {
      "needs_background": "light"
     },
     "output_type": "display_data"
    }
   ],
   "source": [
    "plt.imshow(X_train[0])"
   ]
  },
  {
   "cell_type": "code",
   "execution_count": 43,
   "id": "a67b4e4b",
   "metadata": {},
   "outputs": [
    {
     "data": {
      "text/plain": [
       "<matplotlib.image.AxesImage at 0x1f44ec83370>"
      ]
     },
     "execution_count": 43,
     "metadata": {},
     "output_type": "execute_result"
    },
    {
     "data": {
      "image/png": "[encoded data removed]",
      "text/plain": [
       "<Figure size 432x288 with 1 Axes>"
      ]
     },
     "metadata": {
      "needs_background": "light"
     },
     "output_type": "display_data"
    }
   ],
   "source": [
    "plt.imshow(aug(X_train)[0])"
   ]
  },
  {
   "cell_type": "code",
   "execution_count": 44,
   "id": "9d48c850",
   "metadata": {},
   "outputs": [],
   "source": [
    "cnn=Sequential()\n",
    "cnn.add(tf.keras.layers.experimental.preprocessing.RandomFlip('horizontal',input_shape=(32,32,3)))\n",
    "cnn.add(tf.keras.layers.experimental.preprocessing.RandomRotation(0.1))\n",
    "cnn.add(tf.keras.layers.experimental.preprocessing.RandomZoom(0.1))\n",
    "cnn.add(Conv2D(32,kernel_size=(3,3),padding='same',activation='relu'))\n",
    "cnn.add(Conv2D(64,kernel_size=(3,3),padding='same',activation='relu'))\n",
    "cnn.add(MaxPooling2D(pool_size=(2,2),strides=2))\n",
    "cnn.add(Flatten())\n",
    "cnn.add(Dense(128,activation='relu'))\n",
    "cnn.add(Dense(10,activation='softmax'))"
   ]
  },
  {
   "cell_type": "code",
   "execution_count": 45,
   "id": "15073003",
   "metadata": {},
   "outputs": [
    {
     "name": "stdout",
     "output_type": "stream",
     "text": [
      "Model: \"sequential_7\"\n",
      "_________________________________________________________________\n",
      "Layer (type)                 Output Shape              Param #   \n",
      "=================================================================\n",
      "random_flip_3 (RandomFlip)   (None, 32, 32, 3)         0         \n",
      "_________________________________________________________________\n",
      "random_rotation_3 (RandomRot (None, 32, 32, 3)         0         \n",
      "_________________________________________________________________\n",
      "random_zoom_2 (RandomZoom)   (None, 32, 32, 3)         0         \n",
      "_________________________________________________________________\n",
      "conv2d_6 (Conv2D)            (None, 32, 32, 32)        896       \n",
      "_________________________________________________________________\n",
      "conv2d_7 (Conv2D)            (None, 32, 32, 64)        18496     \n",
      "_________________________________________________________________\n",
      "max_pooling2d_3 (MaxPooling2 (None, 16, 16, 64)        0         \n",
      "_________________________________________________________________\n",
      "flatten_4 (Flatten)          (None, 16384)             0         \n",
      "_________________________________________________________________\n",
      "dense_9 (Dense)              (None, 128)               2097280   \n",
      "_________________________________________________________________\n",
      "dense_10 (Dense)             (None, 10)                1290      \n",
      "=================================================================\n",
      "Total params: 2,117,962\n",
      "Trainable params: 2,117,962\n",
      "Non-trainable params: 0\n",
      "_________________________________________________________________\n"
     ]
    }
   ],
   "source": [
    "cnn.summary()"
   ]
  },
  {
   "cell_type": "code",
   "execution_count": 46,
   "id": "96c7cb7a",
   "metadata": {},
   "outputs": [],
   "source": [
    "cnn.compile(optimizer='adam',loss='sparse_categorical_crossentropy',metrics=['accuracy'])"
   ]
  },
  {
   "cell_type": "code",
   "execution_count": 47,
   "id": "6c79302f",
   "metadata": {},
   "outputs": [
    {
     "name": "stdout",
     "output_type": "stream",
     "text": [
      "Epoch 1/10\n",
      "1563/1563 [==============================] - 479s 303ms/step - loss: 1.4760 - accuracy: 0.4698\n",
      "Epoch 2/10\n",
      "1563/1563 [==============================] - 520s 333ms/step - loss: 1.2305 - accuracy: 0.5625\n",
      "Epoch 3/10\n",
      "1563/1563 [==============================] - 391s 250ms/step - loss: 1.1446 - accuracy: 0.5933\n",
      "Epoch 4/10\n",
      "1563/1563 [==============================] - 367s 235ms/step - loss: 1.0914 - accuracy: 0.6137\n",
      "Epoch 5/10\n",
      "1563/1563 [==============================] - 367s 235ms/step - loss: 1.0454 - accuracy: 0.6288\n",
      "Epoch 6/10\n",
      "1563/1563 [==============================] - 399s 255ms/step - loss: 1.0098 - accuracy: 0.6429\n",
      "Epoch 7/10\n",
      "1563/1563 [==============================] - 380s 243ms/step - loss: 0.9777 - accuracy: 0.6527\n",
      "Epoch 8/10\n",
      "1563/1563 [==============================] - 389s 249ms/step - loss: 0.9536 - accuracy: 0.6654\n",
      "Epoch 9/10\n",
      "1563/1563 [==============================] - 383s 245ms/step - loss: 0.9355 - accuracy: 0.6705\n",
      "Epoch 10/10\n",
      "1563/1563 [==============================] - 387s 248ms/step - loss: 0.9152 - accuracy: 0.6795\n"
     ]
    },
    {
     "data": {
      "text/plain": [
       "<keras.callbacks.History at 0x1f44edc2ac0>"
      ]
     },
     "execution_count": 47,
     "metadata": {},
     "output_type": "execute_result"
    }
   ],
   "source": [
    "cnn.fit(X_train,Y_train,epochs=10)"
   ]
  },
  {
   "cell_type": "code",
   "execution_count": 48,
   "id": "910b031b",
   "metadata": {},
   "outputs": [
    {
     "name": "stdout",
     "output_type": "stream",
     "text": [
      "313/313 [==============================] - 21s 66ms/step - loss: 1.0236 - accuracy: 0.6599\n"
     ]
    },
    {
     "data": {
      "text/plain": [
       "[1.0235517024993896, 0.6599000096321106]"
      ]
     },
     "execution_count": 48,
     "metadata": {},
     "output_type": "execute_result"
    }
   ],
   "source": [
    "cnn.evaluate(X_test,Y_test)"
   ]
  },
  {
   "cell_type": "markdown",
   "id": "55638b74",
   "metadata": {},
   "source": [
    "### Using Basic CNN + Data Augmentation, Train_acc=67 and Test_acc=65"
   ]
  },
  {
   "cell_type": "markdown",
   "id": "5694cd93",
   "metadata": {},
   "source": [
    "## CNN using Data Augmentation, Dropout and Batch Normalization"
   ]
  },
  {
   "cell_type": "code",
   "execution_count": 49,
   "id": "33dc8ab3",
   "metadata": {},
   "outputs": [],
   "source": [
    "from tensorflow.keras.layers import BatchNormalization"
   ]
  },
  {
   "cell_type": "code",
   "execution_count": 50,
   "id": "1a6ecd74",
   "metadata": {},
   "outputs": [],
   "source": [
    "cnn=Sequential()\n",
    "cnn.add(tf.keras.layers.experimental.preprocessing.RandomFlip('horizontal',input_shape=(32,32,3)))\n",
    "cnn.add(tf.keras.layers.experimental.preprocessing.RandomRotation(0.1))\n",
    "# cnn.add(tf.keras.layers.experimental.preprocessing.RandomZoom(0.1))\n",
    "cnn.add(Conv2D(32,kernel_size=(3,3),padding='same',activation='relu'))\n",
    "cnn.add(Conv2D(64,kernel_size=(3,3),padding='same',activation='relu'))\n",
    "cnn.add(MaxPooling2D(pool_size=(2,2),strides=2))\n",
    "cnn.add(Dropout(0.5))\n",
    "cnn.add(Conv2D(128,kernel_size=(3,3),padding='same',activation='relu'))\n",
    "cnn.add(MaxPooling2D(pool_size=(2,2),strides=2))\n",
    "cnn.add(Dropout(0.5))\n",
    "cnn.add(Flatten())\n",
    "cnn.add(Dense(128,activation='relu'))\n",
    "cnn.add(BatchNormalization())\n",
    "cnn.add(Dense(10,activation='softmax'))"
   ]
  },
  {
   "cell_type": "code",
   "execution_count": 51,
   "id": "dee8d6e0",
   "metadata": {},
   "outputs": [
    {
     "name": "stdout",
     "output_type": "stream",
     "text": [
      "Model: \"sequential_8\"\n",
      "_________________________________________________________________\n",
      "Layer (type)                 Output Shape              Param #   \n",
      "=================================================================\n",
      "random_flip_4 (RandomFlip)   (None, 32, 32, 3)         0         \n",
      "_________________________________________________________________\n",
      "random_rotation_4 (RandomRot (None, 32, 32, 3)         0         \n",
      "_________________________________________________________________\n",
      "conv2d_8 (Conv2D)            (None, 32, 32, 32)        896       \n",
      "_________________________________________________________________\n",
      "conv2d_9 (Conv2D)            (None, 32, 32, 64)        18496     \n",
      "_________________________________________________________________\n",
      "max_pooling2d_4 (MaxPooling2 (None, 16, 16, 64)        0         \n",
      "_________________________________________________________________\n",
      "dropout_2 (Dropout)          (None, 16, 16, 64)        0         \n",
      "_________________________________________________________________\n",
      "conv2d_10 (Conv2D)           (None, 16, 16, 128)       73856     \n",
      "_________________________________________________________________\n",
      "max_pooling2d_5 (MaxPooling2 (None, 8, 8, 128)         0         \n",
      "_________________________________________________________________\n",
      "dropout_3 (Dropout)          (None, 8, 8, 128)         0         \n",
      "_________________________________________________________________\n",
      "flatten_5 (Flatten)          (None, 8192)              0         \n",
      "_________________________________________________________________\n",
      "dense_11 (Dense)             (None, 128)               1048704   \n",
      "_________________________________________________________________\n",
      "batch_normalization (BatchNo (None, 128)               512       \n",
      "_________________________________________________________________\n",
      "dense_12 (Dense)             (None, 10)                1290      \n",
      "=================================================================\n",
      "Total params: 1,143,754\n",
      "Trainable params: 1,143,498\n",
      "Non-trainable params: 256\n",
      "_________________________________________________________________\n"
     ]
    }
   ],
   "source": [
    "cnn.summary()"
   ]
  },
  {
   "cell_type": "code",
   "execution_count": 52,
   "id": "bfa5c967",
   "metadata": {},
   "outputs": [],
   "source": [
    "cnn.compile(optimizer='adam',loss='sparse_categorical_crossentropy',metrics=['accuracy'])"
   ]
  },
  {
   "cell_type": "code",
   "execution_count": 53,
   "id": "f2380181",
   "metadata": {},
   "outputs": [
    {
     "name": "stdout",
     "output_type": "stream",
     "text": [
      "Epoch 1/10\n",
      "1563/1563 [==============================] - 598s 381ms/step - loss: 1.6042 - accuracy: 0.4197\n",
      "Epoch 2/10\n",
      "1563/1563 [==============================] - 578s 370ms/step - loss: 1.3241 - accuracy: 0.5244\n",
      "Epoch 3/10\n",
      "1563/1563 [==============================] - 774s 495ms/step - loss: 1.2180 - accuracy: 0.5672\n",
      "Epoch 4/10\n",
      "1563/1563 [==============================] - 729s 466ms/step - loss: 1.1616 - accuracy: 0.5893\n",
      "Epoch 5/10\n",
      "1563/1563 [==============================] - 710s 455ms/step - loss: 1.1106 - accuracy: 0.6059\n",
      "Epoch 6/10\n",
      "1563/1563 [==============================] - 680s 435ms/step - loss: 1.0719 - accuracy: 0.6224\n",
      "Epoch 7/10\n",
      "1563/1563 [==============================] - 679s 435ms/step - loss: 1.0392 - accuracy: 0.6336\n",
      "Epoch 8/10\n",
      "1563/1563 [==============================] - 708s 453ms/step - loss: 1.0178 - accuracy: 0.6380\n",
      "Epoch 9/10\n",
      "1563/1563 [==============================] - 691s 442ms/step - loss: 0.9872 - accuracy: 0.6524\n",
      "Epoch 10/10\n",
      "1563/1563 [==============================] - 671s 429ms/step - loss: 0.9654 - accuracy: 0.6626\n"
     ]
    },
    {
     "data": {
      "text/plain": [
       "<keras.callbacks.History at 0x1f4532c0730>"
      ]
     },
     "execution_count": 53,
     "metadata": {},
     "output_type": "execute_result"
    }
   ],
   "source": [
    "cnn.fit(X_train,Y_train,epochs=10)"
   ]
  },
  {
   "cell_type": "code",
   "execution_count": 54,
   "id": "0306c024",
   "metadata": {},
   "outputs": [
    {
     "name": "stdout",
     "output_type": "stream",
     "text": [
      "313/313 [==============================] - 32s 102ms/step - loss: 0.8924 - accuracy: 0.6841\n"
     ]
    },
    {
     "data": {
      "text/plain": [
       "[0.8923748135566711, 0.6840999722480774]"
      ]
     },
     "execution_count": 54,
     "metadata": {},
     "output_type": "execute_result"
    }
   ],
   "source": [
    "cnn.evaluate(X_test,Y_test)"
   ]
  },
  {
   "cell_type": "markdown",
   "id": "ffa77e3c",
   "metadata": {},
   "source": [
    "### Using Basic CNN + Data Augmentation + Dropout + Batch Normalization, Train_acc=66 and Test_acc=68"
   ]
  },
  {
   "cell_type": "code",
   "execution_count": null,
   "id": "169b9307",
   "metadata": {},
   "outputs": [],
   "source": []
  }
 ],
 "metadata": {
  "kernelspec": {
   "display_name": "Python 3",
   "language": "python",
   "name": "python3"
  },
  "language_info": {
   "codemirror_mode": {
    "name": "ipython",
    "version": 3
   },
   "file_extension": ".py",
   "mimetype": "text/x-python",
   "name": "python",
   "nbconvert_exporter": "python",
   "pygments_lexer": "ipython3",
   "version": "3.8.8"
  }
 },
 "nbformat": 4,
 "nbformat_minor": 5
}
